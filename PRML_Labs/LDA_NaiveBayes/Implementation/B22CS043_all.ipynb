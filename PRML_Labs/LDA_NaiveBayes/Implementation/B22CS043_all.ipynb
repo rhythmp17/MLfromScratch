{
  "cells": [
    {
      "cell_type": "code",
      "execution_count": 1,
      "metadata": {
        "id": "vJlLuLWKOvsP"
      },
      "outputs": [],
      "source": [
        "import csv\n",
        "import numpy as np\n",
        "import pandas as pd\n",
        "import matplotlib.pyplot as plt\n",
        "from sklearn.model_selection import train_test_split\n",
        "from sklearn.neighbors import KNeighborsClassifier\n",
        "from sklearn.metrics import accuracy_score\n"
      ]
    },
    {
      "cell_type": "markdown",
      "metadata": {
        "id": "FaHwHXpHpFiJ"
      },
      "source": [
        "# Question 1"
      ]
    },
    {
      "cell_type": "markdown",
      "metadata": {
        "id": "DmcMBqdTpo37"
      },
      "source": [
        "## Task 1"
      ]
    },
    {
      "cell_type": "code",
      "execution_count": 2,
      "metadata": {
        "id": "chafRMhxfL3t"
      },
      "outputs": [],
      "source": [
        "# Function to calculate the mean differnce.\n",
        "def ComputeMeanDiff(X):\n",
        "    label_0_points = X[X[:, 2] == 0][:, :2]\n",
        "    label_1_points = X[X[:, 2] == 1][:, :2]\n",
        "    # Calculate mean of coordinates for each label\n",
        "    mean_label_0 = np.mean(label_0_points, axis=0)\n",
        "    mean_label_1 = np.mean(label_1_points, axis=0)\n",
        "    mean0 = mean_label_0.reshape(2,1)\n",
        "    mean1 = mean_label_1.reshape(2,1)\n",
        "    x = mean1 - mean0\n",
        "    return x\n",
        "\n",
        "# Function to get the mean of the coordinates of the points of the given label.\n",
        "def getMean(X,label):\n",
        "    label_points = X[X[:, 2] == label][:, :2]\n",
        "\n",
        "    # Calculate mean of coordinates for each label\n",
        "    mean_label = np.mean(label_points, axis=0)\n",
        "    # ans = mean_label.reshape(2,1)\n",
        "    return mean_label\n",
        "# Function to calculate Within Class Scatter Matrix.\n",
        "def ComputeSW(X):\n",
        "    s1 = np.array([[0,0],[0,0]],dtype = np.float64)\n",
        "    s2 = np.array([[0,0],[0,0]],dtype = np.float64)\n",
        "    tot1 = 0\n",
        "    tot2 = 0\n",
        "    mean1 = getMean(X,label=0)\n",
        "    mean2 = getMean(X,label=1)\n",
        "    for i in range(X.shape[0]):\n",
        "        if float(X[i][2]) == 0:\n",
        "            x = np.array([[float(X[i][0]) - mean1[0],float(X[i][1]) - mean1[1]]])\n",
        "            xt = np.transpose(x)\n",
        "            s1 += np.dot(xt,x)\n",
        "            tot1 += 1\n",
        "        else:\n",
        "            x = np.array([[float(X[i][0]) - mean2[0],float(X[i][1]) - mean2[1]]])\n",
        "            xt = np.transpose(x)\n",
        "            s2 += np.dot(xt,x)\n",
        "            tot2 += 1\n",
        "\n",
        "    return s1/tot1 + s2/tot2\n",
        "\n",
        "# Function to calculate between Class Scatter Matrix.\n",
        "def ComputeSB(X):\n",
        "    x = ComputeMeanDiff(X)\n",
        "    xt = np.transpose(x)\n",
        "    sb = np.dot(x,xt)\n",
        "    return sb\n",
        "\n",
        "# Function to calculate the LDA projection vector\n",
        "def GetLDAProjectionVector(X):\n",
        "    sw = ComputeSW(X)\n",
        "    sw_i = np.linalg.inv(sw)\n",
        "    mean_diff = ComputeMeanDiff(X)\n",
        "    v = np.dot(sw_i,mean_diff)\n",
        "\n",
        "    return v\n",
        "\n",
        "# Function project a 2D point to a 1D point.\n",
        "def project(x,y,w):\n",
        "    coordinate = np.array([[x,y]])\n",
        "    coordinate = coordinate.reshape(2,1)\n",
        "    w_t = np.transpose(w)\n",
        "    projection = np.dot(w_t,coordinate)\n",
        "    return projection[0][0]\n",
        "# Function to transform an entire dataset\n",
        "def TransformDataUsingLDA(X):\n",
        "    v = GetLDAProjectionVector(X)\n",
        "    v_t = np.transpose(v)\n",
        "    x = X[:,0:2]\n",
        "    x_t = np.transpose(x)\n",
        "    x_t_f = x_t.astype(np.float64)\n",
        "    y = np.dot(v_t,x_t_f)\n",
        "    y_reshaped = y.reshape(2000,1)\n",
        "    labels = X[:,-1].astype(np.float64)\n",
        "    labels_reshaped = labels.reshape(2000,1)\n",
        "    coordinates = y_reshaped\n",
        "    labels = labels_reshaped\n",
        "    data_transformed = np.hstack((coordinates,labels))\n",
        "    return data_transformed"
      ]
    },
    {
      "cell_type": "code",
      "execution_count": 3,
      "metadata": {
        "colab": {
          "base_uri": "https://localhost:8080/",
          "height": 423
        },
        "id": "YhSPP7ikfRgZ",
        "outputId": "d82741a9-cd97-4daf-8e09-2c48c94d304f"
      },
      "outputs": [
        {
          "data": {
            "text/html": [
              "<div>\n",
              "<style scoped>\n",
              "    .dataframe tbody tr th:only-of-type {\n",
              "        vertical-align: middle;\n",
              "    }\n",
              "\n",
              "    .dataframe tbody tr th {\n",
              "        vertical-align: top;\n",
              "    }\n",
              "\n",
              "    .dataframe thead th {\n",
              "        text-align: right;\n",
              "    }\n",
              "</style>\n",
              "<table border=\"1\" class=\"dataframe\">\n",
              "  <thead>\n",
              "    <tr style=\"text-align: right;\">\n",
              "      <th></th>\n",
              "      <th>0</th>\n",
              "      <th>1</th>\n",
              "      <th>2</th>\n",
              "    </tr>\n",
              "  </thead>\n",
              "  <tbody>\n",
              "    <tr>\n",
              "      <th>0</th>\n",
              "      <td>1.861898</td>\n",
              "      <td>2.722963</td>\n",
              "      <td>0.0</td>\n",
              "    </tr>\n",
              "    <tr>\n",
              "      <th>1</th>\n",
              "      <td>2.235896</td>\n",
              "      <td>-2.157721</td>\n",
              "      <td>0.0</td>\n",
              "    </tr>\n",
              "    <tr>\n",
              "      <th>2</th>\n",
              "      <td>1.692817</td>\n",
              "      <td>0.995896</td>\n",
              "      <td>0.0</td>\n",
              "    </tr>\n",
              "    <tr>\n",
              "      <th>3</th>\n",
              "      <td>2.584343</td>\n",
              "      <td>3.722926</td>\n",
              "      <td>0.0</td>\n",
              "    </tr>\n",
              "    <tr>\n",
              "      <th>4</th>\n",
              "      <td>1.689087</td>\n",
              "      <td>-0.838214</td>\n",
              "      <td>0.0</td>\n",
              "    </tr>\n",
              "    <tr>\n",
              "      <th>...</th>\n",
              "      <td>...</td>\n",
              "      <td>...</td>\n",
              "      <td>...</td>\n",
              "    </tr>\n",
              "    <tr>\n",
              "      <th>1995</th>\n",
              "      <td>6.234800</td>\n",
              "      <td>5.117729</td>\n",
              "      <td>1.0</td>\n",
              "    </tr>\n",
              "    <tr>\n",
              "      <th>1996</th>\n",
              "      <td>6.803708</td>\n",
              "      <td>3.127105</td>\n",
              "      <td>1.0</td>\n",
              "    </tr>\n",
              "    <tr>\n",
              "      <th>1997</th>\n",
              "      <td>4.466789</td>\n",
              "      <td>3.444926</td>\n",
              "      <td>1.0</td>\n",
              "    </tr>\n",
              "    <tr>\n",
              "      <th>1998</th>\n",
              "      <td>5.658980</td>\n",
              "      <td>4.043341</td>\n",
              "      <td>1.0</td>\n",
              "    </tr>\n",
              "    <tr>\n",
              "      <th>1999</th>\n",
              "      <td>1.980180</td>\n",
              "      <td>7.158152</td>\n",
              "      <td>1.0</td>\n",
              "    </tr>\n",
              "  </tbody>\n",
              "</table>\n",
              "<p>2000 rows × 3 columns</p>\n",
              "</div>"
            ],
            "text/plain": [
              "             0         1    2\n",
              "0     1.861898  2.722963  0.0\n",
              "1     2.235896 -2.157721  0.0\n",
              "2     1.692817  0.995896  0.0\n",
              "3     2.584343  3.722926  0.0\n",
              "4     1.689087 -0.838214  0.0\n",
              "...        ...       ...  ...\n",
              "1995  6.234800  5.117729  1.0\n",
              "1996  6.803708  3.127105  1.0\n",
              "1997  4.466789  3.444926  1.0\n",
              "1998  5.658980  4.043341  1.0\n",
              "1999  1.980180  7.158152  1.0\n",
              "\n",
              "[2000 rows x 3 columns]"
            ]
          },
          "execution_count": 3,
          "metadata": {},
          "output_type": "execute_result"
        }
      ],
      "source": [
        "url = \"https://raw.githubusercontent.com/anandmishra22/PRML-Spring-2023/main/programmingAssignment/PA-4/data.csv\"\n",
        "df = pd.read_csv(url,header = None)\n",
        "df"
      ]
    },
    {
      "cell_type": "code",
      "execution_count": 4,
      "metadata": {
        "id": "kkG2T3zLhgEx"
      },
      "outputs": [],
      "source": [
        "data = df.values\n",
        "data = data.astype(np.float64)"
      ]
    },
    {
      "cell_type": "code",
      "execution_count": 5,
      "metadata": {
        "colab": {
          "base_uri": "https://localhost:8080/"
        },
        "id": "fHpXKrLT9t5_",
        "outputId": "6c0d6fec-bdd0-4def-de9d-6f07b90d59c3"
      },
      "outputs": [
        {
          "data": {
            "text/plain": [
              "array([5.03478669, 5.05195398])"
            ]
          },
          "execution_count": 5,
          "metadata": {},
          "output_type": "execute_result"
        }
      ],
      "source": [
        "getMean(data,1)"
      ]
    },
    {
      "cell_type": "code",
      "execution_count": 6,
      "metadata": {
        "colab": {
          "base_uri": "https://localhost:8080/"
        },
        "id": "Ff78vX8AWljH",
        "outputId": "5c4183f8-d307-4b79-e13a-ecb71b024ebc"
      },
      "outputs": [
        {
          "data": {
            "text/plain": [
              "array([[2.98555047],\n",
              "       [3.02425853]])"
            ]
          },
          "execution_count": 6,
          "metadata": {},
          "output_type": "execute_result"
        }
      ],
      "source": [
        "ComputeMeanDiff(data)"
      ]
    },
    {
      "cell_type": "code",
      "execution_count": 7,
      "metadata": {
        "colab": {
          "base_uri": "https://localhost:8080/"
        },
        "id": "JoWM8VciYQQo",
        "outputId": "9cf65764-c0c9-4832-85c4-c0a3926fcdaf"
      },
      "outputs": [
        {
          "data": {
            "text/plain": [
              "array([[ 4.42102289, -0.23741918],\n",
              "       [-0.23741918,  4.55636686]])"
            ]
          },
          "execution_count": 7,
          "metadata": {},
          "output_type": "execute_result"
        }
      ],
      "source": [
        "ComputeSW(data)"
      ]
    },
    {
      "cell_type": "code",
      "execution_count": 8,
      "metadata": {
        "colab": {
          "base_uri": "https://localhost:8080/"
        },
        "id": "jrxd_pXJY7zo",
        "outputId": "643ecaa9-f4ec-42fd-8293-93f9c527a9ce"
      },
      "outputs": [
        {
          "data": {
            "text/plain": [
              "array([[8.91351161, 9.02907647],\n",
              "       [9.02907647, 9.14613965]])"
            ]
          },
          "execution_count": 8,
          "metadata": {},
          "output_type": "execute_result"
        }
      ],
      "source": [
        "ComputeSB(data)"
      ]
    },
    {
      "cell_type": "code",
      "execution_count": 9,
      "metadata": {
        "colab": {
          "base_uri": "https://localhost:8080/"
        },
        "id": "dufLIHXRfc-M",
        "outputId": "87ff05c2-dff9-486c-c8c6-4a033f02f798"
      },
      "outputs": [
        {
          "name": "stdout",
          "output_type": "stream",
          "text": [
            "2.1147333119736804\n"
          ]
        }
      ],
      "source": [
        "# x=int(input(\"Input x dimension of a 2-dimensional point : \"))\n",
        "# y=int(input(\"Input y dimension of a 2-dimensional point : \"))\n",
        "w=GetLDAProjectionVector(data)\n",
        "print(project(1,2,w))"
      ]
    },
    {
      "cell_type": "markdown",
      "metadata": {
        "id": "M5wfnWXbp0By"
      },
      "source": [
        "## Task 2"
      ]
    },
    {
      "cell_type": "markdown",
      "metadata": {
        "id": "vta8C0wvnTav"
      },
      "source": [
        "The data is first plotted on a 2D plane, along with the LDA projection vector. The plot is shown below\n"
      ]
    },
    {
      "cell_type": "code",
      "execution_count": 10,
      "metadata": {
        "colab": {
          "base_uri": "https://localhost:8080/",
          "height": 564
        },
        "id": "qxaUcBsOmwe5",
        "outputId": "dd2b9554-14c7-4bcc-eba7-87beb27cf58e"
      },
      "outputs": [
        {
          "data": {
            "image/png": "[encoded data removed]",
            "text/plain": [
              "<Figure size 1200x600 with 1 Axes>"
            ]
          },
          "metadata": {},
          "output_type": "display_data"
        }
      ],
      "source": [
        "points = data[:, :2].astype(np.float64)\n",
        "labels = data[:, 2].astype(np.float64)\n",
        "\n",
        "# Separate points based on labels\n",
        "points_label_0 = points[labels == 0]\n",
        "points_label_1 = points[labels == 1]\n",
        "plt.figure(figsize=(12, 6))\n",
        "# Plotting\n",
        "plt.scatter(points_label_0[:, 0], points_label_0[:, 1], color='red',marker = 'o', label='Label 0',edgecolors = 'k')\n",
        "plt.scatter(points_label_1[:, 0], points_label_1[:, 1], color='blue',marker = 'o', label='Label 1',edgecolors = 'k')\n",
        "\n",
        "# Adding labels and legend\n",
        "plt.xlabel('X')\n",
        "plt.ylabel('Y')\n",
        "plt.title('Scatter Plot of Data with Labels')\n",
        "plt.legend()\n",
        "plt.arrow(-2,-2,w[0][0],w[1][0],head_width = 0,head_length = 15)\n",
        "# Set axis limits to ensure all points are visible\n",
        "plt.xlim(np.min(points[:, 0]) - 1, np.max(points[:, 0]) + 1)\n",
        "plt.ylim(np.min(points[:, 1]) - 1, np.max(points[:, 1]) + 1)\n",
        "\n",
        "# Display plot\n",
        "plt.show()"
      ]
    },
    {
      "cell_type": "markdown",
      "metadata": {
        "id": "vbfTu1QznbpO"
      },
      "source": [
        "The LDA projection vector has a slope close to unity and it almost completely divides the data into 2 similar halvess"
      ]
    },
    {
      "cell_type": "markdown",
      "metadata": {
        "id": "klFEor6Zngs4"
      },
      "source": [
        "After Getting the 1D projection of all the points, a new, transformed dataset is created whose plot is shown below."
      ]
    },
    {
      "cell_type": "code",
      "execution_count": 11,
      "metadata": {
        "colab": {
          "base_uri": "https://localhost:8080/",
          "height": 725
        },
        "id": "trn-gbrnuwTK",
        "outputId": "9ce6423d-9010-4933-bea5-eb0b1877571a"
      },
      "outputs": [
        {
          "data": {
            "image/png": "[encoded data removed]",
            "text/plain": [
              "<Figure size 2000x1000 with 1 Axes>"
            ]
          },
          "metadata": {},
          "output_type": "display_data"
        }
      ],
      "source": [
        "data_transformed = TransformDataUsingLDA(data)\n",
        "x_coordinates = data_transformed[:, 0]\n",
        "labels = data_transformed[:, 1]\n",
        "\n",
        "# Separate points based on their labels\n",
        "label_0_points = x_coordinates[labels == 0]\n",
        "label_1_points = x_coordinates[labels == 1]\n",
        "\n",
        "# Plot the points\n",
        "plt.figure(figsize=(20, 10))\n",
        "plt.plot(label_0_points, np.zeros_like(label_0_points), '|', label='Label 0',color = 'red')  # Red points for label 0\n",
        "plt.plot(label_1_points, np.zeros_like(label_1_points), '|', label='Label 1',color = 'blue')  # Blue points for label 1\n",
        "plt.xlabel('Position of Points')\n",
        "plt.title('1D Projection of the data')\n",
        "plt.legend()\n",
        "plt.yticks([])\n",
        "# plt.grid(True)\n",
        "plt.show()"
      ]
    },
    {
      "cell_type": "markdown",
      "metadata": {
        "id": "gEcGEXfqnjRX"
      },
      "source": [
        "As we can clearly see, the separation of the data is maximized in one dimension."
      ]
    },
    {
      "cell_type": "markdown",
      "metadata": {
        "id": "P1PPmyrzp4ki"
      },
      "source": [
        "## Task 3"
      ]
    },
    {
      "cell_type": "markdown",
      "metadata": {
        "id": "oqV28Fo4npEP"
      },
      "source": [
        "The performance of the 1-Nearest Neighbor model was used to compare the two datasets. Here is a table containing the results obtained. At all times, the 80-20 train - test split was used."
      ]
    },
    {
      "cell_type": "markdown",
      "metadata": {
        "id": "be-anaPuoPCQ"
      },
      "source": [
        "The performance of the 1-Nearest Neighbor model was used to compare the two datasets. Here is a table containing the results obtained. At all times, the 80-20 train - test split was used."
      ]
    },
    {
      "cell_type": "code",
      "execution_count": 12,
      "metadata": {
        "colab": {
          "base_uri": "https://localhost:8080/"
        },
        "id": "MvCxgk2JkGFm",
        "outputId": "385ad6f2-6609-4245-95b8-c6437f969870"
      },
      "outputs": [
        {
          "name": "stdout",
          "output_type": "stream",
          "text": [
            "Accuracy on test data: 0.915\n"
          ]
        }
      ],
      "source": [
        "X = data[:, :-1]  # Features (coordinates)\n",
        "y = data[:, -1]   # Target variable\n",
        "\n",
        "# Splitting the data into training and testing sets (80-20 split)\n",
        "X_train, X_test, y_train, y_test = train_test_split(X, y, test_size=0.2, random_state=7)\n",
        "\n",
        "# Initializing the KNN classifier\n",
        "knn = KNeighborsClassifier(n_neighbors = 1)\n",
        "# Training the KNN classifier on the test data\n",
        "knn.fit(X_train, y_train)\n",
        "\n",
        "# Predicting the labels for the test data\n",
        "y_test_pred = knn.predict(X_test)\n",
        "\n",
        "# Calculating the accuracy on the test data\n",
        "test_accuracy = accuracy_score(y_test, y_test_pred)\n",
        "print(\"Accuracy on test data:\", test_accuracy)"
      ]
    },
    {
      "cell_type": "code",
      "execution_count": 13,
      "metadata": {
        "colab": {
          "base_uri": "https://localhost:8080/"
        },
        "id": "EvSogL-IkYdH",
        "outputId": "51e674b5-e196-4583-aae5-52758e57fca2"
      },
      "outputs": [
        {
          "name": "stdout",
          "output_type": "stream",
          "text": [
            "Accuracy on test data after using LDA: 0.895\n"
          ]
        }
      ],
      "source": [
        "X = data_transformed[:, :-1]  # Features (coordinates)\n",
        "y = data_transformed[:, -1]   # Target variable\n",
        "\n",
        "# Splitting the data into training and testing sets (80-20 split)\n",
        "X_train, X_test, y_train, y_test = train_test_split(X, y, test_size=0.2, random_state=7)\n",
        "\n",
        "# Initializing the KNN classifier\n",
        "knn = KNeighborsClassifier(n_neighbors = 1)\n",
        "\n",
        "# Training the KNN classifier on the testing data\n",
        "knn.fit(X_train, y_train)\n",
        "\n",
        "# Predicting the labels for the testing data\n",
        "y_test_pred = knn.predict(X_test)\n",
        "\n",
        "# Calculating the accuracy on the testing data\n",
        "test_accuracy = accuracy_score(y_test, y_test_pred)\n",
        "print(\"Accuracy on test data after using LDA:\", test_accuracy)\n",
        "\n"
      ]
    },
    {
      "cell_type": "markdown",
      "metadata": {
        "id": "oeqoxzLDoTeO"
      },
      "source": [
        "The accuracy of the model has decreased only slightly. Hence, in the transformation, the amount of data loss is insignificant."
      ]
    },
    {
      "cell_type": "markdown",
      "metadata": {
        "id": "c2eSSCn-pKMw"
      },
      "source": [
        "# Question 2"
      ]
    },
    {
      "cell_type": "markdown",
      "metadata": {
        "id": "WFx5f9-nqWQp"
      },
      "source": [
        "## Task 0"
      ]
    },
    {
      "cell_type": "markdown",
      "metadata": {
        "id": "gbXX4Bi3oaR_"
      },
      "source": [
        "Shown below is the raw dataset.   "
      ]
    },
    {
      "cell_type": "code",
      "execution_count": 14,
      "metadata": {
        "colab": {
          "base_uri": "https://localhost:8080/",
          "height": 488
        },
        "id": "xImTRuVgpPd6",
        "outputId": "61aed8ae-0230-4e7f-c704-0e0e02aac633"
      },
      "outputs": [
        {
          "data": {
            "text/html": [
              "<div>\n",
              "<style scoped>\n",
              "    .dataframe tbody tr th:only-of-type {\n",
              "        vertical-align: middle;\n",
              "    }\n",
              "\n",
              "    .dataframe tbody tr th {\n",
              "        vertical-align: top;\n",
              "    }\n",
              "\n",
              "    .dataframe thead th {\n",
              "        text-align: right;\n",
              "    }\n",
              "</style>\n",
              "<table border=\"1\" class=\"dataframe\">\n",
              "  <thead>\n",
              "    <tr style=\"text-align: right;\">\n",
              "      <th></th>\n",
              "      <th>Outlook</th>\n",
              "      <th>Temp</th>\n",
              "      <th>Humidity</th>\n",
              "      <th>Windy</th>\n",
              "      <th>Play</th>\n",
              "    </tr>\n",
              "  </thead>\n",
              "  <tbody>\n",
              "    <tr>\n",
              "      <th>0</th>\n",
              "      <td>Rainy</td>\n",
              "      <td>Hot</td>\n",
              "      <td>High</td>\n",
              "      <td>f</td>\n",
              "      <td>no</td>\n",
              "    </tr>\n",
              "    <tr>\n",
              "      <th>1</th>\n",
              "      <td>Rainy</td>\n",
              "      <td>Hot</td>\n",
              "      <td>High</td>\n",
              "      <td>t</td>\n",
              "      <td>no</td>\n",
              "    </tr>\n",
              "    <tr>\n",
              "      <th>2</th>\n",
              "      <td>Overcast</td>\n",
              "      <td>Hot</td>\n",
              "      <td>High</td>\n",
              "      <td>f</td>\n",
              "      <td>yes</td>\n",
              "    </tr>\n",
              "    <tr>\n",
              "      <th>3</th>\n",
              "      <td>Sunny</td>\n",
              "      <td>Mild</td>\n",
              "      <td>High</td>\n",
              "      <td>f</td>\n",
              "      <td>yes</td>\n",
              "    </tr>\n",
              "    <tr>\n",
              "      <th>4</th>\n",
              "      <td>Sunny</td>\n",
              "      <td>Cool</td>\n",
              "      <td>Normal</td>\n",
              "      <td>f</td>\n",
              "      <td>yes</td>\n",
              "    </tr>\n",
              "    <tr>\n",
              "      <th>5</th>\n",
              "      <td>Sunny</td>\n",
              "      <td>Cool</td>\n",
              "      <td>Normal</td>\n",
              "      <td>t</td>\n",
              "      <td>no</td>\n",
              "    </tr>\n",
              "    <tr>\n",
              "      <th>6</th>\n",
              "      <td>Overcast</td>\n",
              "      <td>Cool</td>\n",
              "      <td>Normal</td>\n",
              "      <td>t</td>\n",
              "      <td>yes</td>\n",
              "    </tr>\n",
              "    <tr>\n",
              "      <th>7</th>\n",
              "      <td>Rainy</td>\n",
              "      <td>Mild</td>\n",
              "      <td>High</td>\n",
              "      <td>f</td>\n",
              "      <td>no</td>\n",
              "    </tr>\n",
              "    <tr>\n",
              "      <th>8</th>\n",
              "      <td>Rainy</td>\n",
              "      <td>Cool</td>\n",
              "      <td>Normal</td>\n",
              "      <td>f</td>\n",
              "      <td>yes</td>\n",
              "    </tr>\n",
              "    <tr>\n",
              "      <th>9</th>\n",
              "      <td>Sunny</td>\n",
              "      <td>Mild</td>\n",
              "      <td>Normal</td>\n",
              "      <td>f</td>\n",
              "      <td>yes</td>\n",
              "    </tr>\n",
              "    <tr>\n",
              "      <th>10</th>\n",
              "      <td>Rainy</td>\n",
              "      <td>Mild</td>\n",
              "      <td>Normal</td>\n",
              "      <td>t</td>\n",
              "      <td>yes</td>\n",
              "    </tr>\n",
              "    <tr>\n",
              "      <th>11</th>\n",
              "      <td>Overcast</td>\n",
              "      <td>Mild</td>\n",
              "      <td>High</td>\n",
              "      <td>t</td>\n",
              "      <td>yes</td>\n",
              "    </tr>\n",
              "    <tr>\n",
              "      <th>12</th>\n",
              "      <td>Overcast</td>\n",
              "      <td>Hot</td>\n",
              "      <td>Normal</td>\n",
              "      <td>f</td>\n",
              "      <td>yes</td>\n",
              "    </tr>\n",
              "    <tr>\n",
              "      <th>13</th>\n",
              "      <td>Sunny</td>\n",
              "      <td>Mild</td>\n",
              "      <td>High</td>\n",
              "      <td>t</td>\n",
              "      <td>no</td>\n",
              "    </tr>\n",
              "  </tbody>\n",
              "</table>\n",
              "</div>"
            ],
            "text/plain": [
              "     Outlook  Temp Humidity Windy Play\n",
              "0      Rainy   Hot     High     f   no\n",
              "1      Rainy   Hot     High     t   no\n",
              "2   Overcast   Hot     High     f  yes\n",
              "3      Sunny  Mild     High     f  yes\n",
              "4      Sunny  Cool   Normal     f  yes\n",
              "5      Sunny  Cool   Normal     t   no\n",
              "6   Overcast  Cool   Normal     t  yes\n",
              "7      Rainy  Mild     High     f   no\n",
              "8      Rainy  Cool   Normal     f  yes\n",
              "9      Sunny  Mild   Normal     f  yes\n",
              "10     Rainy  Mild   Normal     t  yes\n",
              "11  Overcast  Mild     High     t  yes\n",
              "12  Overcast   Hot   Normal     f  yes\n",
              "13     Sunny  Mild     High     t   no"
            ]
          },
          "execution_count": 14,
          "metadata": {},
          "output_type": "execute_result"
        }
      ],
      "source": [
        "url = \"https://raw.githubusercontent.com/anandmishra22/PRML-Spring-2023/main/programmingAssignment/PA-4/naive_bayes.csv\"\n",
        "df = pd.read_csv(url)\n",
        "df"
      ]
    },
    {
      "cell_type": "markdown",
      "metadata": {
        "id": "OyIQ0QH4obY3"
      },
      "source": [
        "Here is the training data and the testing data."
      ]
    },
    {
      "cell_type": "code",
      "execution_count": 15,
      "metadata": {
        "colab": {
          "base_uri": "https://localhost:8080/",
          "height": 425
        },
        "id": "d9fnccTxTsju",
        "outputId": "b91b7b78-20bb-448f-efe6-cb8aa3bd9dd5"
      },
      "outputs": [
        {
          "data": {
            "text/html": [
              "<div>\n",
              "<style scoped>\n",
              "    .dataframe tbody tr th:only-of-type {\n",
              "        vertical-align: middle;\n",
              "    }\n",
              "\n",
              "    .dataframe tbody tr th {\n",
              "        vertical-align: top;\n",
              "    }\n",
              "\n",
              "    .dataframe thead th {\n",
              "        text-align: right;\n",
              "    }\n",
              "</style>\n",
              "<table border=\"1\" class=\"dataframe\">\n",
              "  <thead>\n",
              "    <tr style=\"text-align: right;\">\n",
              "      <th></th>\n",
              "      <th>Outlook</th>\n",
              "      <th>Temp</th>\n",
              "      <th>Humidity</th>\n",
              "      <th>Windy</th>\n",
              "      <th>Play</th>\n",
              "    </tr>\n",
              "  </thead>\n",
              "  <tbody>\n",
              "    <tr>\n",
              "      <th>0</th>\n",
              "      <td>Rainy</td>\n",
              "      <td>Hot</td>\n",
              "      <td>High</td>\n",
              "      <td>f</td>\n",
              "      <td>no</td>\n",
              "    </tr>\n",
              "    <tr>\n",
              "      <th>1</th>\n",
              "      <td>Rainy</td>\n",
              "      <td>Hot</td>\n",
              "      <td>High</td>\n",
              "      <td>t</td>\n",
              "      <td>no</td>\n",
              "    </tr>\n",
              "    <tr>\n",
              "      <th>2</th>\n",
              "      <td>Overcast</td>\n",
              "      <td>Hot</td>\n",
              "      <td>High</td>\n",
              "      <td>f</td>\n",
              "      <td>yes</td>\n",
              "    </tr>\n",
              "    <tr>\n",
              "      <th>3</th>\n",
              "      <td>Sunny</td>\n",
              "      <td>Mild</td>\n",
              "      <td>High</td>\n",
              "      <td>f</td>\n",
              "      <td>yes</td>\n",
              "    </tr>\n",
              "    <tr>\n",
              "      <th>4</th>\n",
              "      <td>Sunny</td>\n",
              "      <td>Cool</td>\n",
              "      <td>Normal</td>\n",
              "      <td>f</td>\n",
              "      <td>yes</td>\n",
              "    </tr>\n",
              "    <tr>\n",
              "      <th>5</th>\n",
              "      <td>Sunny</td>\n",
              "      <td>Cool</td>\n",
              "      <td>Normal</td>\n",
              "      <td>t</td>\n",
              "      <td>no</td>\n",
              "    </tr>\n",
              "    <tr>\n",
              "      <th>6</th>\n",
              "      <td>Overcast</td>\n",
              "      <td>Cool</td>\n",
              "      <td>Normal</td>\n",
              "      <td>t</td>\n",
              "      <td>yes</td>\n",
              "    </tr>\n",
              "    <tr>\n",
              "      <th>7</th>\n",
              "      <td>Rainy</td>\n",
              "      <td>Mild</td>\n",
              "      <td>High</td>\n",
              "      <td>f</td>\n",
              "      <td>no</td>\n",
              "    </tr>\n",
              "    <tr>\n",
              "      <th>8</th>\n",
              "      <td>Rainy</td>\n",
              "      <td>Cool</td>\n",
              "      <td>Normal</td>\n",
              "      <td>f</td>\n",
              "      <td>yes</td>\n",
              "    </tr>\n",
              "    <tr>\n",
              "      <th>9</th>\n",
              "      <td>Sunny</td>\n",
              "      <td>Mild</td>\n",
              "      <td>Normal</td>\n",
              "      <td>f</td>\n",
              "      <td>yes</td>\n",
              "    </tr>\n",
              "    <tr>\n",
              "      <th>10</th>\n",
              "      <td>Rainy</td>\n",
              "      <td>Mild</td>\n",
              "      <td>Normal</td>\n",
              "      <td>t</td>\n",
              "      <td>yes</td>\n",
              "    </tr>\n",
              "    <tr>\n",
              "      <th>11</th>\n",
              "      <td>Overcast</td>\n",
              "      <td>Mild</td>\n",
              "      <td>High</td>\n",
              "      <td>t</td>\n",
              "      <td>yes</td>\n",
              "    </tr>\n",
              "  </tbody>\n",
              "</table>\n",
              "</div>"
            ],
            "text/plain": [
              "     Outlook  Temp Humidity Windy Play\n",
              "0      Rainy   Hot     High     f   no\n",
              "1      Rainy   Hot     High     t   no\n",
              "2   Overcast   Hot     High     f  yes\n",
              "3      Sunny  Mild     High     f  yes\n",
              "4      Sunny  Cool   Normal     f  yes\n",
              "5      Sunny  Cool   Normal     t   no\n",
              "6   Overcast  Cool   Normal     t  yes\n",
              "7      Rainy  Mild     High     f   no\n",
              "8      Rainy  Cool   Normal     f  yes\n",
              "9      Sunny  Mild   Normal     f  yes\n",
              "10     Rainy  Mild   Normal     t  yes\n",
              "11  Overcast  Mild     High     t  yes"
            ]
          },
          "execution_count": 15,
          "metadata": {},
          "output_type": "execute_result"
        }
      ],
      "source": [
        "train = df.iloc[:-2,:]\n",
        "train"
      ]
    },
    {
      "cell_type": "code",
      "execution_count": 16,
      "metadata": {
        "colab": {
          "base_uri": "https://localhost:8080/",
          "height": 112
        },
        "id": "2Ke0WWvRT3gg",
        "outputId": "db08892b-06a1-4c38-cf81-4ba8da22c944"
      },
      "outputs": [
        {
          "data": {
            "text/html": [
              "<div>\n",
              "<style scoped>\n",
              "    .dataframe tbody tr th:only-of-type {\n",
              "        vertical-align: middle;\n",
              "    }\n",
              "\n",
              "    .dataframe tbody tr th {\n",
              "        vertical-align: top;\n",
              "    }\n",
              "\n",
              "    .dataframe thead th {\n",
              "        text-align: right;\n",
              "    }\n",
              "</style>\n",
              "<table border=\"1\" class=\"dataframe\">\n",
              "  <thead>\n",
              "    <tr style=\"text-align: right;\">\n",
              "      <th></th>\n",
              "      <th>Outlook</th>\n",
              "      <th>Temp</th>\n",
              "      <th>Humidity</th>\n",
              "      <th>Windy</th>\n",
              "      <th>Play</th>\n",
              "    </tr>\n",
              "  </thead>\n",
              "  <tbody>\n",
              "    <tr>\n",
              "      <th>12</th>\n",
              "      <td>Overcast</td>\n",
              "      <td>Hot</td>\n",
              "      <td>Normal</td>\n",
              "      <td>f</td>\n",
              "      <td>yes</td>\n",
              "    </tr>\n",
              "    <tr>\n",
              "      <th>13</th>\n",
              "      <td>Sunny</td>\n",
              "      <td>Mild</td>\n",
              "      <td>High</td>\n",
              "      <td>t</td>\n",
              "      <td>no</td>\n",
              "    </tr>\n",
              "  </tbody>\n",
              "</table>\n",
              "</div>"
            ],
            "text/plain": [
              "     Outlook  Temp Humidity Windy Play\n",
              "12  Overcast   Hot   Normal     f  yes\n",
              "13     Sunny  Mild     High     t   no"
            ]
          },
          "execution_count": 16,
          "metadata": {},
          "output_type": "execute_result"
        }
      ],
      "source": [
        "test = df.iloc[-2:,:]\n",
        "test"
      ]
    },
    {
      "cell_type": "code",
      "execution_count": 17,
      "metadata": {
        "colab": {
          "base_uri": "https://localhost:8080/"
        },
        "id": "yLGOX3kfqIiU",
        "outputId": "92455711-9814-4ab6-833a-69379d51214f"
      },
      "outputs": [
        {
          "data": {
            "text/plain": [
              "array([['Rainy', 'Hot', 'High', 'f', 'no'],\n",
              "       ['Rainy', 'Hot', 'High', 't', 'no'],\n",
              "       ['Overcast', 'Hot', 'High', 'f', 'yes'],\n",
              "       ['Sunny', 'Mild', 'High', 'f', 'yes'],\n",
              "       ['Sunny', 'Cool', 'Normal', 'f', 'yes'],\n",
              "       ['Sunny', 'Cool', 'Normal', 't', 'no'],\n",
              "       ['Overcast', 'Cool', 'Normal', 't', 'yes'],\n",
              "       ['Rainy', 'Mild', 'High', 'f', 'no'],\n",
              "       ['Rainy', 'Cool', 'Normal', 'f', 'yes'],\n",
              "       ['Sunny', 'Mild', 'Normal', 'f', 'yes'],\n",
              "       ['Rainy', 'Mild', 'Normal', 't', 'yes'],\n",
              "       ['Overcast', 'Mild', 'High', 't', 'yes'],\n",
              "       ['Overcast', 'Hot', 'Normal', 'f', 'yes'],\n",
              "       ['Sunny', 'Mild', 'High', 't', 'no']], dtype=object)"
            ]
          },
          "execution_count": 17,
          "metadata": {},
          "output_type": "execute_result"
        }
      ],
      "source": [
        "data_f = df.values\n",
        "data_f"
      ]
    },
    {
      "cell_type": "code",
      "execution_count": 18,
      "metadata": {
        "id": "2nMxcKmPqL70"
      },
      "outputs": [],
      "source": [
        "train_data = data_f[:-2,:]\n",
        "train_data.shape\n",
        "test_data = data_f[-2:,:]\n",
        "test_data.shape\n",
        "train_dataframe = df.iloc[:-2,:]\n",
        "test_dataframe = df.iloc[-2:,:]"
      ]
    },
    {
      "cell_type": "code",
      "execution_count": 19,
      "metadata": {
        "colab": {
          "base_uri": "https://localhost:8080/"
        },
        "id": "WAsBy212qNnE",
        "outputId": "82d95e35-e25b-46c2-af06-41c4bfc63b6b"
      },
      "outputs": [
        {
          "name": "stdout",
          "output_type": "stream",
          "text": [
            "[['Rainy' 'Hot' 'High' 'f' 'no']\n",
            " ['Rainy' 'Hot' 'High' 't' 'no']\n",
            " ['Overcast' 'Hot' 'High' 'f' 'yes']\n",
            " ['Sunny' 'Mild' 'High' 'f' 'yes']\n",
            " ['Sunny' 'Cool' 'Normal' 'f' 'yes']\n",
            " ['Sunny' 'Cool' 'Normal' 't' 'no']\n",
            " ['Overcast' 'Cool' 'Normal' 't' 'yes']\n",
            " ['Rainy' 'Mild' 'High' 'f' 'no']\n",
            " ['Rainy' 'Cool' 'Normal' 'f' 'yes']\n",
            " ['Sunny' 'Mild' 'Normal' 'f' 'yes']\n",
            " ['Rainy' 'Mild' 'Normal' 't' 'yes']\n",
            " ['Overcast' 'Mild' 'High' 't' 'yes']]\n"
          ]
        }
      ],
      "source": [
        "print(train_data)"
      ]
    },
    {
      "cell_type": "code",
      "execution_count": 20,
      "metadata": {
        "colab": {
          "base_uri": "https://localhost:8080/"
        },
        "id": "F11hMlZaqPaE",
        "outputId": "981c4e48-cd84-4700-a86d-489b9a911eca"
      },
      "outputs": [
        {
          "name": "stdout",
          "output_type": "stream",
          "text": [
            "[['Overcast' 'Hot' 'Normal' 'f' 'yes']\n",
            " ['Sunny' 'Mild' 'High' 't' 'no']]\n"
          ]
        }
      ],
      "source": [
        "print(test_data)"
      ]
    },
    {
      "cell_type": "markdown",
      "metadata": {
        "id": "hxbuW8phogVI"
      },
      "source": [
        "The Split was made such that the first 12 data points are the training set and the last 2 samples are the testing set."
      ]
    },
    {
      "cell_type": "markdown",
      "metadata": {
        "id": "r1BVQNH4qlxj"
      },
      "source": [
        "## Task 1"
      ]
    },
    {
      "cell_type": "markdown",
      "metadata": {
        "id": "07LWwG5Bzf2t"
      },
      "source": [
        "On the training dataset, the Prior Probabilities are the probabilities of playing and the probabilities of not playing"
      ]
    },
    {
      "cell_type": "code",
      "execution_count": 21,
      "metadata": {
        "colab": {
          "base_uri": "https://localhost:8080/"
        },
        "id": "BY-nzHQ4qlhy",
        "outputId": "ffe390a5-76a9-4c9b-a061-1927dde802ab"
      },
      "outputs": [
        {
          "name": "stdout",
          "output_type": "stream",
          "text": [
            " Probability of Play = yes : 0.6666666666666666\n",
            " Probability of Play = no : 0.3333333333333333\n"
          ]
        }
      ],
      "source": [
        "tot_yes = 0\n",
        "tot_no = 0\n",
        "tot = train_data.shape[0]\n",
        "for i in range(tot):\n",
        "  if(train_data[i][-1] == 'yes'):\n",
        "    tot_yes += 1\n",
        "  else:\n",
        "    tot_no += 1\n",
        "\n",
        "prob_yes = tot_yes/tot\n",
        "prob_no = tot_no/tot\n",
        "\n",
        "print(\" Probability of Play = yes : \" + str(prob_yes))\n",
        "print(\" Probability of Play = no : \" + str(prob_no))"
      ]
    },
    {
      "cell_type": "markdown",
      "metadata": {
        "id": "QbDOXZh0qtcH"
      },
      "source": [
        "## Task 2\n",
        "\n"
      ]
    },
    {
      "cell_type": "markdown",
      "metadata": {
        "id": "8L87HAcLzuyI"
      },
      "source": [
        "The likelihood probabilities are the conditional probability of observing each feature given the class label.\n",
        "For example P(Outlook = Sunny|Play = yes), P(Temperature =Mild|Play = yes), and so on.\n",
        "This is implemented using a dictionary of dictionaries in python. The keys of the outer dictionary are the features in the dataset (Outlook,Temperature,Humidity,Windy). Each of these keys point to another dictionary whose keys are the unique values of the features. Eg. Outlook points to a dictionary whose keys are rainy,sunny and overcast. Each of this inner dictionary points to a list containing 2 elements, The Probability of play = yes and the probability of play = no. The dictionary is being generated by a function: getLikelihoodProbabilities()\n"
      ]
    },
    {
      "cell_type": "code",
      "execution_count": 22,
      "metadata": {
        "id": "fZ7dc162qxNR"
      },
      "outputs": [],
      "source": [
        "yes_indices = train_data[:, -1] == 'yes'\n",
        "no_indices = train_data[:, -1] == 'no'\n",
        "\n",
        "# Get numpy arrays with last column as 'yes' and 'no'\n",
        "data_yes = train_data[yes_indices]\n",
        "data_no = train_data[no_indices]"
      ]
    },
    {
      "cell_type": "code",
      "execution_count": 23,
      "metadata": {
        "colab": {
          "base_uri": "https://localhost:8080/"
        },
        "id": "cQaOyeOeq3a6",
        "outputId": "0a718ba8-dac5-4ee6-d389-d5d6c6d305ed"
      },
      "outputs": [
        {
          "name": "stdout",
          "output_type": "stream",
          "text": [
            "[['Overcast' 'Hot' 'High' 'f' 'yes']\n",
            " ['Sunny' 'Mild' 'High' 'f' 'yes']\n",
            " ['Sunny' 'Cool' 'Normal' 'f' 'yes']\n",
            " ['Overcast' 'Cool' 'Normal' 't' 'yes']\n",
            " ['Rainy' 'Cool' 'Normal' 'f' 'yes']\n",
            " ['Sunny' 'Mild' 'Normal' 'f' 'yes']\n",
            " ['Rainy' 'Mild' 'Normal' 't' 'yes']\n",
            " ['Overcast' 'Mild' 'High' 't' 'yes']]\n"
          ]
        }
      ],
      "source": [
        "print(data_yes)"
      ]
    },
    {
      "cell_type": "code",
      "execution_count": 24,
      "metadata": {
        "colab": {
          "base_uri": "https://localhost:8080/"
        },
        "id": "fgVJ_iXN8wvx",
        "outputId": "71f074dd-9be2-477c-95d7-5a45684bd638"
      },
      "outputs": [
        {
          "name": "stdout",
          "output_type": "stream",
          "text": [
            "[['Rainy' 'Hot' 'High' 'f' 'no']\n",
            " ['Rainy' 'Hot' 'High' 't' 'no']\n",
            " ['Sunny' 'Cool' 'Normal' 't' 'no']\n",
            " ['Rainy' 'Mild' 'High' 'f' 'no']]\n"
          ]
        }
      ],
      "source": [
        "print(data_no)"
      ]
    },
    {
      "cell_type": "code",
      "execution_count": 25,
      "metadata": {
        "id": "IFyvWUyJrHak"
      },
      "outputs": [],
      "source": [
        "def getLikelihoodProbabilities(train_dataframe,train_data):\n",
        "  yes_indices = train_data[:, -1] == 'yes'\n",
        "  no_indices = train_data[:, -1] == 'no'\n",
        "\n",
        "  # Get numpy arrays with last column as 'yes' and 'no'\n",
        "  data_yes = train_data[yes_indices]\n",
        "  data_no = train_data[no_indices]\n",
        "  count = 0\n",
        "  prob = {}\n",
        "  for c in train_dataframe.columns[:-1]:\n",
        "    unique_values= np.unique(train_data[:,count])\n",
        "    prob[c] = {}\n",
        "    for x in unique_values:\n",
        "      prob[c][x] = [0,0]\n",
        "\n",
        "    for x in unique_values:\n",
        "      cnt = 0\n",
        "      for j in range(data_yes.shape[0]):\n",
        "        if(data_yes[j][count] == x):\n",
        "          cnt += 1\n",
        "      prob[c][x][1] = cnt/data_yes.shape[0]\n",
        "      cnt = 0\n",
        "      for j in range(data_no.shape[0]):\n",
        "        if(data_no[j][count] == x):\n",
        "          cnt += 1\n",
        "      prob[c][x][0] = cnt/data_no.shape[0]\n",
        "    count += 1\n",
        "  return prob"
      ]
    },
    {
      "cell_type": "markdown",
      "metadata": {
        "id": "IoXTR03Izykc"
      },
      "source": [
        "Here is an example of how to extract values from the dictionary.\n",
        "P(Outlook = Overcast | Play = Yes) = 0.375\n",
        "This above value is to be accessed using the dictionary as follows:\n",
        "prob[‘Outlook’][‘Overcast’][1] = 0.375\n",
        "P(Humidity = Normal | Play = No) = 0.25\n",
        "This above value is to be accessed using the dictionary as follows:\n",
        "prob[Humidity][Normal][0] = 0.25\n",
        "Here is the dictionary printed.\n"
      ]
    },
    {
      "cell_type": "code",
      "execution_count": 26,
      "metadata": {
        "colab": {
          "base_uri": "https://localhost:8080/"
        },
        "id": "nrkg4JrircLJ",
        "outputId": "97056014-792d-4d17-9a9a-d643bbd88e59"
      },
      "outputs": [
        {
          "name": "stdout",
          "output_type": "stream",
          "text": [
            "P(Outlook = Overcast | Play = Yes) = 0.375\n",
            "P(Outlook = Overcast | Play = No) = 0.0\n",
            "P(Outlook = Rainy | Play = Yes) = 0.25\n",
            "P(Outlook = Rainy | Play = No) = 0.75\n",
            "P(Outlook = Sunny | Play = Yes) = 0.375\n",
            "P(Outlook = Sunny | Play = No) = 0.25\n",
            "P(Temp = Cool | Play = Yes) = 0.375\n",
            "P(Temp = Cool | Play = No) = 0.25\n",
            "P(Temp = Hot | Play = Yes) = 0.125\n",
            "P(Temp = Hot | Play = No) = 0.5\n",
            "P(Temp = Mild | Play = Yes) = 0.5\n",
            "P(Temp = Mild | Play = No) = 0.25\n",
            "P(Humidity = High | Play = Yes) = 0.375\n",
            "P(Humidity = High | Play = No) = 0.75\n",
            "P(Humidity = Normal | Play = Yes) = 0.625\n",
            "P(Humidity = Normal | Play = No) = 0.25\n",
            "P(Windy = f | Play = Yes) = 0.625\n",
            "P(Windy = f | Play = No) = 0.5\n",
            "P(Windy = t | Play = Yes) = 0.375\n",
            "P(Windy = t | Play = No) = 0.5\n"
          ]
        }
      ],
      "source": [
        "prob = getLikelihoodProbabilities(train_dataframe,train_data)\n",
        "for feature in prob:\n",
        "  for label in prob[feature]:\n",
        "    play = \"Yes\"\n",
        "    p_yes = prob[feature][label][1]\n",
        "    print(\"P(\" + str(feature) + \" = \" + str(label) + \" | Play = \" + play + \") = \" + str(p_yes))\n",
        "    play = \"No\"\n",
        "    p_no = prob[feature][label][0]\n",
        "    print(\"P(\" + str(feature) + \" = \" + str(label) + \" | Play = \" + play + \") = \" + str(p_no))\n",
        "\n"
      ]
    },
    {
      "cell_type": "markdown",
      "metadata": {
        "id": "9IkJs37crEMR"
      },
      "source": [
        "## Task 3"
      ]
    },
    {
      "cell_type": "markdown",
      "metadata": {
        "id": "MJ6K_vNRz1wc"
      },
      "source": [
        "For making predictions on the test set, the probabilities of both play = yes and play = no are calculated,using the Likelihood probabilities calculated before. Below is the implementation of the same."
      ]
    },
    {
      "cell_type": "code",
      "execution_count": 27,
      "metadata": {
        "colab": {
          "base_uri": "https://localhost:8080/",
          "height": 112
        },
        "id": "5S0s1NrhrnDB",
        "outputId": "03b409dc-14dc-48cb-fee9-0da009ceda90"
      },
      "outputs": [
        {
          "data": {
            "text/html": [
              "<div>\n",
              "<style scoped>\n",
              "    .dataframe tbody tr th:only-of-type {\n",
              "        vertical-align: middle;\n",
              "    }\n",
              "\n",
              "    .dataframe tbody tr th {\n",
              "        vertical-align: top;\n",
              "    }\n",
              "\n",
              "    .dataframe thead th {\n",
              "        text-align: right;\n",
              "    }\n",
              "</style>\n",
              "<table border=\"1\" class=\"dataframe\">\n",
              "  <thead>\n",
              "    <tr style=\"text-align: right;\">\n",
              "      <th></th>\n",
              "      <th>Outlook</th>\n",
              "      <th>Temp</th>\n",
              "      <th>Humidity</th>\n",
              "      <th>Windy</th>\n",
              "      <th>Play</th>\n",
              "    </tr>\n",
              "  </thead>\n",
              "  <tbody>\n",
              "    <tr>\n",
              "      <th>12</th>\n",
              "      <td>Overcast</td>\n",
              "      <td>Hot</td>\n",
              "      <td>Normal</td>\n",
              "      <td>f</td>\n",
              "      <td>yes</td>\n",
              "    </tr>\n",
              "    <tr>\n",
              "      <th>13</th>\n",
              "      <td>Sunny</td>\n",
              "      <td>Mild</td>\n",
              "      <td>High</td>\n",
              "      <td>t</td>\n",
              "      <td>no</td>\n",
              "    </tr>\n",
              "  </tbody>\n",
              "</table>\n",
              "</div>"
            ],
            "text/plain": [
              "     Outlook  Temp Humidity Windy Play\n",
              "12  Overcast   Hot   Normal     f  yes\n",
              "13     Sunny  Mild     High     t   no"
            ]
          },
          "execution_count": 27,
          "metadata": {},
          "output_type": "execute_result"
        }
      ],
      "source": [
        "test_dataframe"
      ]
    },
    {
      "cell_type": "code",
      "execution_count": 28,
      "metadata": {
        "colab": {
          "base_uri": "https://localhost:8080/"
        },
        "id": "HGyYeqY2rraR",
        "outputId": "9bab2109-065c-4449-f4c1-afe6d9388fc5"
      },
      "outputs": [
        {
          "name": "stdout",
          "output_type": "stream",
          "text": [
            "[['Overcast' 'Hot' 'Normal' 'f' 'yes']\n",
            " ['Sunny' 'Mild' 'High' 't' 'no']]\n"
          ]
        }
      ],
      "source": [
        "print(test_data)"
      ]
    },
    {
      "cell_type": "code",
      "execution_count": 29,
      "metadata": {
        "id": "gvfSIzsAu2E6"
      },
      "outputs": [],
      "source": [
        "posterior_probabilities = []"
      ]
    },
    {
      "cell_type": "code",
      "execution_count": 30,
      "metadata": {
        "id": "CtIK_pvUdb3d"
      },
      "outputs": [],
      "source": [
        "def GetPosteriorProbabilities(test_data,prob):\n",
        "  posterior_probabilities = []\n",
        "  for i in range(test_data.shape[0]):\n",
        "    outlook = test_data[i][0]\n",
        "    temp = test_data[i][1]\n",
        "    humidity = test_data[i][2]\n",
        "    windy = test_data[i][3]\n",
        "    p_yes = prob['Outlook'][outlook][1] * prob['Temp'][temp][1] * prob['Humidity'][humidity][1] * prob['Windy'][windy][1] * prob_yes\n",
        "    p_no = prob['Outlook'][outlook][0] * prob['Temp'][temp][0] * prob['Humidity'][humidity][0] * prob['Windy'][windy][0] * prob_yes\n",
        "    posterior_probabilities.append([0,0])\n",
        "    posterior_probabilities[i][0] = p_no\n",
        "    posterior_probabilities[i][1] = p_yes\n",
        "\n",
        "  return posterior_probabilities\n"
      ]
    },
    {
      "cell_type": "code",
      "execution_count": 31,
      "metadata": {
        "colab": {
          "base_uri": "https://localhost:8080/"
        },
        "id": "JFGSkJaXvhas",
        "outputId": "664b13b2-191e-4c5f-f5aa-e14cbc9a0fa4"
      },
      "outputs": [
        {
          "name": "stdout",
          "output_type": "stream",
          "text": [
            "P(Play = yes | Outlook = Overcast ,Temp = Hot,Humidity = Normal, Windy = f) = 0.01220703125\n",
            "P(Play = no | Outlook = Overcast ,Temp = Hot,Humidity = Normal, Windy = f) = 0.0\n",
            "P(Play = yes | Outlook = Sunny ,Temp = Mild,Humidity = High, Windy = t) = 0.017578125\n",
            "P(Play = no | Outlook = Sunny ,Temp = Mild,Humidity = High, Windy = t ) = 0.015625\n"
          ]
        }
      ],
      "source": [
        "posterior_probabilities = GetPosteriorProbabilities(test_data,prob)\n",
        "posterior_probabilities\n",
        "print(\"P(Play = yes | Outlook = Overcast ,Temp = Hot,Humidity = Normal, Windy = f) = \" + str(posterior_probabilities[0][1]))\n",
        "print(\"P(Play = no | Outlook = Overcast ,Temp = Hot,Humidity = Normal, Windy = f) = \" + str(posterior_probabilities[0][0]))\n",
        "print(\"P(Play = yes | Outlook = Sunny ,Temp = Mild,Humidity = High, Windy = t) = \" + str(posterior_probabilities[1][1]))\n",
        "print(\"P(Play = no | Outlook = Sunny ,Temp = Mild,Humidity = High, Windy = t ) = \" + str(posterior_probabilities[1][0]))"
      ]
    },
    {
      "cell_type": "markdown",
      "metadata": {
        "id": "Cy3BhdnKriMo"
      },
      "source": [
        "## Task 4"
      ]
    },
    {
      "cell_type": "markdown",
      "metadata": {
        "id": "xM9cvQSKz4lf"
      },
      "source": [
        "Based on the calculated values of posterior probabilities, the following predictions are made.\n",
        "\n",
        "When Outlook is Overcast and Temperature is Hot and the Humidity is Normal and\n",
        "\n",
        "*   When Outlook is Overcast and Temperature is Hot and the Humidity is Normal and the Windy is f  Then Play = yes  -> Correct Prediction  \n",
        "*   When Outlook is Sunny and Temperature is Mild and the Humidity is High and the Windy is t Then Play = yes   -> Incorrect Prediction\n",
        "\n",
        "the Windy is f  Then Play = yes  -> Correct Prediction        \n",
        "\n",
        "When Outlook is Sunny and Temperature is Mild and the Humidity is High and the Windy is t Then Play = yes   -> Incorrect Prediction\n",
        "\n",
        "On the Other hand, the actual data is as follows.\n",
        "\n",
        "Actually when Outlook is Overcast and Temperature is Hot and the Humidity is\n",
        "\n",
        "*   Actually when Outlook is Overcast and Temperature is Hot and the Humidity is Normal and the Windy is f Then Play = yes\n",
        "*   Actually when Outlook is Sunny and Temperature is Mild and the Humidity is High and the Windy is t  Then Play = no\n",
        "\n",
        "We can see that the second prediction is not correct as it corresponds to not playing category. We know that only 33% of the data corresponds to not playing class, Hence due to less availability of data on the ‘no’ class, the Naive Bayes classification fails.\n"
      ]
    },
    {
      "cell_type": "code",
      "execution_count": 32,
      "metadata": {
        "id": "D0Zkg7IssHZf"
      },
      "outputs": [],
      "source": [
        "# Function to predict on the basis of posterior probabilities.\n",
        "def predict(posterior_probabilities):\n",
        "  predictions = []\n",
        "  for i in range(2):\n",
        "    if(posterior_probabilities[i][1] > posterior_probabilities[i][0]):\n",
        "      predictions.append('yes')\n",
        "    else:\n",
        "      predictions.append('no')\n",
        "  return predictions\n"
      ]
    },
    {
      "cell_type": "code",
      "execution_count": 33,
      "metadata": {
        "colab": {
          "base_uri": "https://localhost:8080/"
        },
        "id": "38FU-uAJe6oy",
        "outputId": "e5ed0e91-3be4-4aa0-89fe-30d38e1d4a6c"
      },
      "outputs": [
        {
          "data": {
            "text/plain": [
              "['yes', 'yes']"
            ]
          },
          "execution_count": 33,
          "metadata": {},
          "output_type": "execute_result"
        }
      ],
      "source": [
        "predictions = predict(posterior_probabilities)\n",
        "predictions"
      ]
    },
    {
      "cell_type": "code",
      "execution_count": 34,
      "metadata": {
        "colab": {
          "base_uri": "https://localhost:8080/"
        },
        "id": "QyK4drU8sNkY",
        "outputId": "3decabfe-3b1c-44d3-b209-6b8471256eaf"
      },
      "outputs": [
        {
          "name": "stdout",
          "output_type": "stream",
          "text": [
            "When Outlook is Overcast and Temperature is Hot and the Humidity is Normal and the Windy is f Then Play = yes\n",
            "When Outlook is Sunny and Temperature is Mild and the Humidity is High and the Windy is t Then Play = yes\n"
          ]
        }
      ],
      "source": [
        "for i in range(2):\n",
        "  print(\"When Outlook is \" + test_data[i][0] + \" and Temperature is \" + test_data[i][1] + \" and the Humidity is \" + test_data[i][2] + \" and the Windy is \" +  test_data[i][3] + \" Then Play = \" + str(predictions[i]))"
      ]
    },
    {
      "cell_type": "code",
      "execution_count": 35,
      "metadata": {
        "colab": {
          "base_uri": "https://localhost:8080/"
        },
        "id": "-kPERzeMRjYb",
        "outputId": "a009cc68-9993-45f9-de22-e7ec8884ac05"
      },
      "outputs": [
        {
          "name": "stdout",
          "output_type": "stream",
          "text": [
            " Actually when Outlook is Overcast and Temperature is Hot and the Humidity is Normal and the Windy is f Then Play = yes\n",
            " Actually when Outlook is Sunny and Temperature is Mild and the Humidity is High and the Windy is t Then Play = no\n"
          ]
        }
      ],
      "source": [
        "actual = list(test_data[:,-1])\n",
        "for i in range(2):\n",
        "  print(\" Actually when Outlook is \" + test_data[i][0] + \" and Temperature is \" + test_data[i][1] + \" and the Humidity is \" + test_data[i][2] + \" and the Windy is \" +  test_data[i][3] + \" Then Play = \" + str(actual[i]))\n"
      ]
    },
    {
      "cell_type": "markdown",
      "metadata": {
        "id": "_GhigAwyTQ0N"
      },
      "source": [
        "## Task 5"
      ]
    },
    {
      "cell_type": "markdown",
      "metadata": {
        "id": "0x9m1eQo0Z5_"
      },
      "source": [
        "A very similar implementation is used to get the probability values using Laplace Smoothing.\n",
        "Here are the Likelihood probabilities obtained.\n"
      ]
    },
    {
      "cell_type": "code",
      "execution_count": 36,
      "metadata": {
        "id": "BXIyd3ysTV4I"
      },
      "outputs": [],
      "source": [
        "#Function to find the Lilkelihood probabilities using Laplace Smoothing\n",
        "def LaplaceSmoothen(train_dataframe,test_data,k):\n",
        "  yes_indices = train_data[:, -1] == 'yes'\n",
        "  no_indices = train_data[:, -1] == 'no'\n",
        "\n",
        "  # Get numpy arrays with last column as 'yes' and 'no'\n",
        "  data_yes = train_data[yes_indices]\n",
        "  data_no = train_data[no_indices]\n",
        "  count = 0\n",
        "  prob = {}\n",
        "  for c in train_dataframe.columns[:-1]:\n",
        "    unique_values= np.unique(train_data[:,count])\n",
        "    prob[c] = {}\n",
        "    for x in unique_values:\n",
        "      prob[c][x] = [0,0]\n",
        "\n",
        "    for x in unique_values:\n",
        "      cnt = 0\n",
        "      for j in range(data_yes.shape[0]):\n",
        "        if(data_yes[j][count] == x):\n",
        "          cnt += 1\n",
        "      prob[c][x][1] = (cnt + k)/(data_yes.shape[0] + k*len(unique_values))\n",
        "      cnt = 0\n",
        "      for j in range(data_no.shape[0]):\n",
        "        if(data_no[j][count] == x):\n",
        "          cnt += 1\n",
        "      prob[c][x][0] = (cnt + k)/(data_no.shape[0] + k*len(unique_values))\n",
        "    count += 1\n",
        "  return prob\n"
      ]
    },
    {
      "cell_type": "code",
      "execution_count": 37,
      "metadata": {
        "colab": {
          "base_uri": "https://localhost:8080/"
        },
        "id": "KZnQjSKgXz_A",
        "outputId": "4f485959-50ce-4490-8208-fff9244d8060"
      },
      "outputs": [
        {
          "name": "stdout",
          "output_type": "stream",
          "text": [
            "P_lap (Outlook = Overcast | Play = Yes) = 0.3636\n",
            "P_lap (Outlook = Overcast | Play = No) = 0.1429\n",
            "P_lap (Outlook = Rainy | Play = Yes) = 0.2727\n",
            "P_lap (Outlook = Rainy | Play = No) = 0.5714\n",
            "P_lap (Outlook = Sunny | Play = Yes) = 0.3636\n",
            "P_lap (Outlook = Sunny | Play = No) = 0.2857\n",
            "P_lap (Temp = Cool | Play = Yes) = 0.3636\n",
            "P_lap (Temp = Cool | Play = No) = 0.2857\n",
            "P_lap (Temp = Hot | Play = Yes) = 0.1818\n",
            "P_lap (Temp = Hot | Play = No) = 0.4286\n",
            "P_lap (Temp = Mild | Play = Yes) = 0.4545\n",
            "P_lap (Temp = Mild | Play = No) = 0.2857\n",
            "P_lap (Humidity = High | Play = Yes) = 0.4\n",
            "P_lap (Humidity = High | Play = No) = 0.6667\n",
            "P_lap (Humidity = Normal | Play = Yes) = 0.6\n",
            "P_lap (Humidity = Normal | Play = No) = 0.3333\n",
            "P_lap (Windy = f | Play = Yes) = 0.6\n",
            "P_lap (Windy = f | Play = No) = 0.5\n",
            "P_lap (Windy = t | Play = Yes) = 0.4\n",
            "P_lap (Windy = t | Play = No) = 0.5\n"
          ]
        }
      ],
      "source": [
        "p_lap = LaplaceSmoothen(train_dataframe,test_data,k = 1)\n",
        "for feature in p_lap:\n",
        "  for label in p_lap[feature]:\n",
        "    play = \"Yes\"\n",
        "    p_yes = p_lap[feature][label][1]\n",
        "    p_yes_round = round(p_yes,4)\n",
        "    print(\"P_lap (\" + str(feature) + \" = \" + str(label) + \" | Play = \" + play + \") = \" + str(p_yes_round))\n",
        "    play = \"No\"\n",
        "    p_no = p_lap[feature][label][0]\n",
        "    p_no_round = round(p_no,4)\n",
        "    print(\"P_lap (\" + str(feature) + \" = \" + str(label) + \" | Play = \" + play + \") = \" + str(p_no_round))"
      ]
    },
    {
      "cell_type": "code",
      "execution_count": 38,
      "metadata": {
        "colab": {
          "base_uri": "https://localhost:8080/"
        },
        "id": "72_uj13ccE_I",
        "outputId": "8ddc5938-7ae5-4a68-9dc2-25dc08a4510b"
      },
      "outputs": [
        {
          "name": "stdout",
          "output_type": "stream",
          "text": [
            "P(Play = yes | Outlook = Overcast ,Temp = Hot,Humidity = Normal, Windy = f) = 0.015867768595041323\n",
            "P(Play = no | Outlook = Overcast ,Temp = Hot,Humidity = Normal, Windy = f) = 0.006802721088435372\n",
            "P(Play = yes | Outlook = Sunny ,Temp = Mild,Humidity = High, Windy = t) = 0.01763085399449036\n",
            "P(Play = no | Outlook = Sunny ,Temp = Mild,Humidity = High, Windy = t ) = 0.018140589569160995\n"
          ]
        }
      ],
      "source": [
        "posterior_probabilities_lap = GetPosteriorProbabilities(test_data,p_lap)\n",
        "print(\"P(Play = yes | Outlook = Overcast ,Temp = Hot,Humidity = Normal, Windy = f) = \" + str(posterior_probabilities_lap[0][1]))\n",
        "print(\"P(Play = no | Outlook = Overcast ,Temp = Hot,Humidity = Normal, Windy = f) = \" + str(posterior_probabilities_lap[0][0]))\n",
        "print(\"P(Play = yes | Outlook = Sunny ,Temp = Mild,Humidity = High, Windy = t) = \" + str(posterior_probabilities_lap[1][1]))\n",
        "print(\"P(Play = no | Outlook = Sunny ,Temp = Mild,Humidity = High, Windy = t ) = \" + str(posterior_probabilities_lap[1][0]))"
      ]
    },
    {
      "cell_type": "code",
      "execution_count": 39,
      "metadata": {
        "colab": {
          "base_uri": "https://localhost:8080/"
        },
        "id": "X1nqFsqsc7iy",
        "outputId": "fb46e172-e705-4e26-81e2-ce558a35db04"
      },
      "outputs": [
        {
          "data": {
            "text/plain": [
              "['yes', 'no']"
            ]
          },
          "execution_count": 39,
          "metadata": {},
          "output_type": "execute_result"
        }
      ],
      "source": [
        "predictions = predict(posterior_probabilities_lap)\n",
        "predictions"
      ]
    },
    {
      "cell_type": "code",
      "execution_count": 40,
      "metadata": {
        "colab": {
          "base_uri": "https://localhost:8080/"
        },
        "id": "soOF46E9gFya",
        "outputId": "04a25ccb-6f07-46b0-a30f-992dc658c57f"
      },
      "outputs": [
        {
          "data": {
            "text/plain": [
              "['yes', 'no']"
            ]
          },
          "execution_count": 40,
          "metadata": {},
          "output_type": "execute_result"
        }
      ],
      "source": [
        "actual = list(test_data[:,-1])\n",
        "actual"
      ]
    },
    {
      "cell_type": "code",
      "execution_count": 41,
      "metadata": {
        "colab": {
          "base_uri": "https://localhost:8080/"
        },
        "id": "Hp-8HMHHf8jn",
        "outputId": "eafc85a3-0f3f-46d5-af59-411526cbf80b"
      },
      "outputs": [
        {
          "name": "stdout",
          "output_type": "stream",
          "text": [
            "When Outlook is Overcast and Temperature is Hot and the Humidity is Normal and the Windy is f Then Play = yes\n",
            "When Outlook is Sunny and Temperature is Mild and the Humidity is High and the Windy is t Then Play = no\n"
          ]
        }
      ],
      "source": [
        "for i in range(2):\n",
        "  print(\"When Outlook is \" + test_data[i][0] + \" and Temperature is \" + test_data[i][1] + \" and the Humidity is \" + test_data[i][2] + \" and the Windy is \" +  test_data[i][3] + \" Then Play = \" + str(predictions[i]))"
      ]
    },
    {
      "cell_type": "code",
      "execution_count": 42,
      "metadata": {
        "colab": {
          "base_uri": "https://localhost:8080/"
        },
        "id": "eTAVFfYjf_o5",
        "outputId": "452d88aa-4682-45af-aff6-e50cd4b27338"
      },
      "outputs": [
        {
          "name": "stdout",
          "output_type": "stream",
          "text": [
            " Actually when Outlook is Overcast and Temperature is Hot and the Humidity is Normal and the Windy is f Then Play = yes\n",
            " Actually when Outlook is Sunny and Temperature is Mild and the Humidity is High and the Windy is t Then Play = no\n"
          ]
        }
      ],
      "source": [
        "for i in range(2):\n",
        "  print(\" Actually when Outlook is \" + test_data[i][0] + \" and Temperature is \" + test_data[i][1] + \" and the Humidity is \" + test_data[i][2] + \" and the Windy is \" +  test_data[i][3] + \" Then Play = \" + str(actual[i]))\n"
      ]
    }
  ],
  "metadata": {
    "colab": {
      "provenance": []
    },
    "kernelspec": {
      "display_name": "Python 3",
      "name": "python3"
    },
    "language_info": {
      "codemirror_mode": {
        "name": "ipython",
        "version": 3
      },
      "file_extension": ".py",
      "mimetype": "text/x-python",
      "name": "python",
      "nbconvert_exporter": "python",
      "pygments_lexer": "ipython3",
      "version": "3.9.2"
    }
  },
  "nbformat": 4,
  "nbformat_minor": 0
}
